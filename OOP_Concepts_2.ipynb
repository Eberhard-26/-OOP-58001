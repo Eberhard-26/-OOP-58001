{
  "nbformat": 4,
  "nbformat_minor": 0,
  "metadata": {
    "colab": {
      "name": "OOP Concepts_2.ipynb",
      "provenance": [],
      "authorship_tag": "ABX9TyPfLrJfQGHvXppobkyW4f8G",
      "include_colab_link": true
    },
    "kernelspec": {
      "name": "python3",
      "display_name": "Python 3"
    },
    "language_info": {
      "name": "python"
    }
  },
  "cells": [
    {
      "cell_type": "markdown",
      "metadata": {
        "id": "view-in-github",
        "colab_type": "text"
      },
      "source": [
        "<a href=\"https://colab.research.google.com/github/Eberhard-26/-OOP-58001/blob/main/OOP_Concepts_2.ipynb\" target=\"_parent\"><img src=\"https://colab.research.google.com/assets/colab-badge.svg\" alt=\"Open In Colab\"/></a>"
      ]
    },
    {
      "cell_type": "markdown",
      "source": [
        "Classes with Multiple Objects"
      ],
      "metadata": {
        "id": "4_vFD2_Dw2qp"
      }
    },
    {
      "cell_type": "code",
      "source": [
        "class Birds:\n",
        "  def __init__(self, bird_name):\n",
        "    self.bird_name = bird_name\n",
        "  def flying_birds(self):\n",
        "    print(f\"{self.bird_name} flies above clouds\")\n",
        "  def non_flying_birds(self):\n",
        "    print(f\"{self.bird_name} is the national bird of the Philippines\") \n",
        "\n",
        "vulture = Birds(\"Griffon Vulture\")\n",
        "crane = Birds(\"Common Crane\")\n",
        "emu = Birds (\"Emu\")\n",
        "\n",
        "vulture.flying_birds()\n",
        "crane.flying_birds()\n",
        "emu.non_flying_birds()"
      ],
      "metadata": {
        "colab": {
          "base_uri": "https://localhost:8080/"
        },
        "id": "XZ_M4TIVw6SH",
        "outputId": "09ef1464-6530-4ed0-e9e7-fb5760e10cec"
      },
      "execution_count": null,
      "outputs": [
        {
          "output_type": "stream",
          "name": "stdout",
          "text": [
            "Griffon Vulture flies above clouds\n",
            "Common Crane flies above clouds\n",
            "Emu is the national bird of the Philippines\n"
          ]
        }
      ]
    },
    {
      "cell_type": "markdown",
      "source": [
        "Encapsulation with Private Attributes"
      ],
      "metadata": {
        "id": "W8OexYo1zefZ"
      }
    },
    {
      "cell_type": "code",
      "execution_count": null,
      "metadata": {
        "colab": {
          "base_uri": "https://localhost:8080/"
        },
        "id": "TVhHqDPkwxGq",
        "outputId": "4a6c7204-6425-4f13-ceaf-b36063d4218b"
      },
      "outputs": [
        {
          "output_type": "execute_result",
          "data": {
            "text/plain": [
              "7"
            ]
          },
          "metadata": {},
          "execution_count": 17
        }
      ],
      "source": [
        "class foo:\n",
        "  def __init__(self,a,b):\n",
        "    self._a = a\n",
        "    self._b = b\n",
        "  def add(self):\n",
        "    return self._a + self._b\n",
        "foo_object = foo(3,4)\n",
        "#foo_object.add()\n",
        "\n",
        "foo_object.a = 6\n",
        "foo_object.add()"
      ]
    },
    {
      "cell_type": "markdown",
      "source": [
        "Encapsulation by mangling with double underscores"
      ],
      "metadata": {
        "id": "KlUoDYnC24AG"
      }
    },
    {
      "cell_type": "code",
      "source": [
        "class Counter:\n",
        "  def __init__(self):\n",
        "    self.__current = 0\n",
        "  def increment(self):\n",
        "    self.__current += 1     #current = current+1\n",
        "  def value(self):\n",
        "    return self.__current\n",
        "  def reset(self):\n",
        "    self.current = 0\n",
        "\n",
        "counter = Counter(0)\n",
        "\n",
        "counter.increment()\n",
        "#counter.increment()\n",
        "#counter.increment()\n",
        "\n",
        "print(counter.__current)\n",
        "print((counter.value))\n",
        "#print(counter.reset())"
      ],
      "metadata": {
        "colab": {
          "base_uri": "https://localhost:8080/",
          "height": 232
        },
        "id": "wSsAec7w26Qy",
        "outputId": "72ca450c-8c16-4653-b077-4d22b20570e6"
      },
      "execution_count": null,
      "outputs": [
        {
          "output_type": "error",
          "ename": "AttributeError",
          "evalue": "ignored",
          "traceback": [
            "\u001b[0;31m---------------------------------------------------------------------------\u001b[0m",
            "\u001b[0;31mAttributeError\u001b[0m                            Traceback (most recent call last)",
            "\u001b[0;32m<ipython-input-1-ea524c7521df>\u001b[0m in \u001b[0;36m<module>\u001b[0;34m()\u001b[0m\n\u001b[1;32m     15\u001b[0m \u001b[0;31m#counter.increment()\u001b[0m\u001b[0;34m\u001b[0m\u001b[0;34m\u001b[0m\u001b[0;34m\u001b[0m\u001b[0m\n\u001b[1;32m     16\u001b[0m \u001b[0;34m\u001b[0m\u001b[0m\n\u001b[0;32m---> 17\u001b[0;31m \u001b[0mprint\u001b[0m\u001b[0;34m(\u001b[0m\u001b[0mcounter\u001b[0m\u001b[0;34m.\u001b[0m\u001b[0m__current\u001b[0m\u001b[0;34m)\u001b[0m\u001b[0;34m\u001b[0m\u001b[0;34m\u001b[0m\u001b[0m\n\u001b[0m\u001b[1;32m     18\u001b[0m \u001b[0mprint\u001b[0m\u001b[0;34m(\u001b[0m\u001b[0;34m(\u001b[0m\u001b[0mcounter\u001b[0m\u001b[0;34m.\u001b[0m\u001b[0mvalue\u001b[0m\u001b[0;34m)\u001b[0m\u001b[0;34m)\u001b[0m\u001b[0;34m\u001b[0m\u001b[0;34m\u001b[0m\u001b[0m\n\u001b[1;32m     19\u001b[0m \u001b[0;31m#print(counter.reset())\u001b[0m\u001b[0;34m\u001b[0m\u001b[0;34m\u001b[0m\u001b[0;34m\u001b[0m\u001b[0m\n",
            "\u001b[0;31mAttributeError\u001b[0m: 'Counter' object has no attribute '__current'"
          ]
        }
      ]
    },
    {
      "cell_type": "markdown",
      "source": [
        "Inheritance"
      ],
      "metadata": {
        "id": "_OijtVue7bfN"
      }
    },
    {
      "cell_type": "code",
      "source": [
        "class Person:\n",
        "  def __init__(self,fname,sname):\n",
        "    self.fname = fname\n",
        "    self.sname = sname\n",
        "  def printname(self):\n",
        "    print(self.fname, self.sname)\n",
        "\n",
        "x = Person(\"Eberhard\", \"De Casa\")\n",
        "x.printname()\n",
        "\n",
        "class Teacher(Person):\n",
        "  pass\n",
        "\n",
        "x = Teacher(\"Maria\", \"Sayo\")\n",
        "x.printname()"
      ],
      "metadata": {
        "colab": {
          "base_uri": "https://localhost:8080/"
        },
        "id": "oaDtSBtt7dJv",
        "outputId": "b47efc26-631b-4246-c3da-f4a453e37f85"
      },
      "execution_count": null,
      "outputs": [
        {
          "output_type": "stream",
          "name": "stdout",
          "text": [
            "Eberhard De Casa\n",
            "Maria Sayo\n"
          ]
        }
      ]
    },
    {
      "cell_type": "markdown",
      "source": [
        "Polymorphism"
      ],
      "metadata": {
        "id": "gacsNAXn-ats"
      }
    },
    {
      "cell_type": "code",
      "source": [
        "class RegularPolygon:\n",
        "  def __init__(self, side=1):\n",
        "    self._side = side\n",
        "\n",
        "class Square(RegularPolygon):\n",
        "  def area(self):\n",
        "    return self._side*self._side\n",
        "\n",
        "class EquilateralTriangle(RegularPolygon):\n",
        "  def area(self):\n",
        "    return self._side*self._side*0.433\n",
        "\n",
        "sq = Square(4)\n",
        "et = EquilateralTriangle(1)\n",
        "\n",
        "#print(obj1.area())\n",
        "#print(obj2.area())\n",
        "\n",
        "print(et.area()*sq.area())"
      ],
      "metadata": {
        "colab": {
          "base_uri": "https://localhost:8080/"
        },
        "id": "QO4KPqLE_aZq",
        "outputId": "a3fcfb61-3a51-46d5-ae02-73cf64298dec"
      },
      "execution_count": null,
      "outputs": [
        {
          "output_type": "stream",
          "name": "stdout",
          "text": [
            "6.928\n"
          ]
        }
      ]
    },
    {
      "cell_type": "code",
      "source": [
        "def main():\n",
        "\n",
        "  class shape:\n",
        "    def init (self, l, h):\n",
        "      self._length = l\n",
        "      self._height = h\n",
        "\n",
        "  class Rectangle(shape):\n",
        "    def area(self):\n",
        "      return self._length*self._height\n",
        "\n",
        "  class Triangle(shape):\n",
        "    def area(self):\n",
        "      return(self._length*self._height)/2\n",
        "    calculateArea=Rectangle(5,10)\n",
        "    print(\"Area of Rectangle is\" + str(calculateArea.area()))\n",
        "\n",
        "  calculateArea=Triangle(5,10)\n",
        "  print(\"Area of Triangle is\" + str(calculateArea.area()))"
      ],
      "metadata": {
        "id": "kf3cTRy4J36C"
      },
      "execution_count": 17,
      "outputs": []
    },
    {
      "cell_type": "markdown",
      "source": [
        "##Application 1 - 30% Prelim, 30% Midterm, 40% Final = Sem Grade\n",
        "1. Create a Python Program that displays the name of three students (Student 1, Student 2, Student 3) and their grades.\n",
        "2. Create a class name Person and attributes - std1, std2, std3, pre, mid, fin.\n",
        "3. Compute for the average grade of each term using Grade() method.\n",
        "4. Information about student's grades must be hidden from others."
      ],
      "metadata": {
        "id": "3XW98ytaF7OO"
      }
    },
    {
      "cell_type": "code",
      "source": [
        "class Person:\n",
        "  def __init__ (self, std, pre, mid, fin):\n",
        "    self._std = std\n",
        "    self._pre = pre*.30\n",
        "    self._mid = mid*.30\n",
        "    self._fin = fin*.40\n",
        "  def Grades(self):\n",
        "    return print(self._std,\"got a semestral grade of\", self._pre + self._mid + self._fin)\n",
        "\n",
        "Std1 = Person(\"Eberhard De Casa\", 98, 93, 97)\n",
        "Std2 = Person(\"Ethan Evangelista \", 92, 95, 95)\n",
        "Std3 = Person(\"Elixir Aveda\", 97, 94, 92)\n",
        "\n",
        "x = input(str(\"Student Name: \"))\n",
        "\n",
        "if x == \"Eberhard De Casa\":\n",
        "  Std1.Grades()\n",
        "else:\n",
        "  if x == \"Ethan Evangelista\":\n",
        "    Std2.Grades()\n",
        "  else:\n",
        "    if x == \"Elixir Aveda\":\n",
        "      Std3.Grades()\n",
        "    else:\n",
        "      print(\"No record found.\")  "
      ],
      "metadata": {
        "colab": {
          "base_uri": "https://localhost:8080/"
        },
        "id": "0kntVMZyTcfR",
        "outputId": "ec95667e-9a80-44a0-ecb3-e37601ad50db"
      },
      "execution_count": null,
      "outputs": [
        {
          "output_type": "stream",
          "name": "stdout",
          "text": [
            "Student Name: Eberhard De Casa\n",
            "Eberhard De Casa got a semestral grade of 96.1\n"
          ]
        }
      ]
    },
    {
      "cell_type": "code",
      "source": [
        ""
      ],
      "metadata": {
        "id": "0PrqFyVhlGVp"
      },
      "execution_count": null,
      "outputs": []
    }
  ]
}