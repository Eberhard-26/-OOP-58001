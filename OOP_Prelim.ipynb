{
  "nbformat": 4,
  "nbformat_minor": 0,
  "metadata": {
    "colab": {
      "name": "OOP Prelim.ipynb",
      "provenance": [],
      "authorship_tag": "ABX9TyO7Z3JzX+Yy1N43RDQRYFSR",
      "include_colab_link": true
    },
    "kernelspec": {
      "name": "python3",
      "display_name": "Python 3"
    },
    "language_info": {
      "name": "python"
    }
  },
  "cells": [
    {
      "cell_type": "markdown",
      "metadata": {
        "id": "view-in-github",
        "colab_type": "text"
      },
      "source": [
        "<a href=\"https://colab.research.google.com/github/Eberhard-26/-OOP-58001/blob/main/OOP_Prelim.ipynb\" target=\"_parent\"><img src=\"https://colab.research.google.com/assets/colab-badge.svg\" alt=\"Open In Colab\"/></a>"
      ]
    },
    {
      "cell_type": "markdown",
      "source": [
        "#Problem 2"
      ],
      "metadata": {
        "id": "2SOmf-s4FrN_"
      }
    },
    {
      "cell_type": "markdown",
      "source": [
        "Write a Python to display your full name, student number, age, and course"
      ],
      "metadata": {
        "id": "0IbpKen8Fj8J"
      }
    },
    {
      "cell_type": "code",
      "source": [
        "class student():\n",
        "  def __init__ (self, name, studentNum, age, school, course):\n",
        "    self.name = name\n",
        "    self.studentNum = studentNum\n",
        "    self.age = age\n",
        "    self.school = school\n",
        "    self.course = course\n",
        "\n",
        "  def student(self):\n",
        "    return self.name + self.studentNum + self.age + self.school + self.course\n",
        "\n",
        "  def attributes(self):\n",
        "    print(self.student())\n",
        "\n",
        "myself = student (\"De Casa, Eberhard Josh | \", \"202110662, \", \"19, \", \"Adamson University, \", \"BS Computer Engineering \")\n",
        "myself.attributes()      "
      ],
      "metadata": {
        "colab": {
          "base_uri": "https://localhost:8080/"
        },
        "id": "LRq7znLFFylV",
        "outputId": "dfdc9b8b-b922-4cf1-83a0-18266503d971"
      },
      "execution_count": 20,
      "outputs": [
        {
          "output_type": "stream",
          "name": "stdout",
          "text": [
            "De Casa, Eberhard Josh | 202110662, 19, Adamson University, BS Computer Engineering \n"
          ]
        }
      ]
    }
  ]
}