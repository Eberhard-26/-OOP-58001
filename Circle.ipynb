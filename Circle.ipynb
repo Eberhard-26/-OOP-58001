{
  "nbformat": 4,
  "nbformat_minor": 0,
  "metadata": {
    "colab": {
      "name": "Circle.ipynb",
      "provenance": [],
      "collapsed_sections": [],
      "authorship_tag": "ABX9TyPRrSjaWUzredZQPKeXUiN8",
      "include_colab_link": true
    },
    "kernelspec": {
      "name": "python3",
      "display_name": "Python 3"
    },
    "language_info": {
      "name": "python"
    }
  },
  "cells": [
    {
      "cell_type": "markdown",
      "metadata": {
        "id": "view-in-github",
        "colab_type": "text"
      },
      "source": [
        "<a href=\"https://colab.research.google.com/github/Eberhard-26/-OOP-58001/blob/main/Circle.ipynb\" target=\"_parent\"><img src=\"https://colab.research.google.com/assets/colab-badge.svg\" alt=\"Open In Colab\"/></a>"
      ]
    },
    {
      "cell_type": "code",
      "execution_count": null,
      "metadata": {
        "colab": {
          "base_uri": "https://localhost:8080/"
        },
        "id": "7fhsA4BKXSSI",
        "outputId": "881c46b8-ecbb-4f23-b363-90626fbef060"
      },
      "outputs": [
        {
          "output_type": "stream",
          "name": "stdout",
          "text": [
            "5\n",
            "The Area of Circle is  78.53975\n",
            "The Perimeter (Circumference) of Circle is  31.4159\n"
          ]
        }
      ],
      "source": [
        "class Circle():\n",
        "  def __init__(self, radius, pi):\n",
        "    self.radius = radius\n",
        "    self.pi = pi\n",
        "\n",
        "  def Area(self):\n",
        "    return self.pi*self.radius**2\n",
        "\n",
        "  def Perimeter(self):\n",
        "    return 2*(self.pi*self.radius)\n",
        "\n",
        "  def display(self):\n",
        "    print(\"The Area of Circle is \", self.Area())\n",
        "    print(\"The Perimeter (Circumference) of Circle is \", self.Perimeter())\n",
        "\n",
        "Circle1 = Circle(int(input()), 3.14159)\n",
        "Circle1.display()"
      ]
    }
  ]
}