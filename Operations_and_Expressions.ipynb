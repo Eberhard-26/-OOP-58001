{
  "nbformat": 4,
  "nbformat_minor": 0,
  "metadata": {
    "colab": {
      "name": "Operations and Expressions.ipynb",
      "provenance": [],
      "collapsed_sections": [],
      "authorship_tag": "ABX9TyMYsFqdbkb+E5T2Rk6K00U/",
      "include_colab_link": true
    },
    "kernelspec": {
      "name": "python3",
      "display_name": "Python 3"
    },
    "language_info": {
      "name": "python"
    }
  },
  "cells": [
    {
      "cell_type": "markdown",
      "metadata": {
        "id": "view-in-github",
        "colab_type": "text"
      },
      "source": [
        "<a href=\"https://colab.research.google.com/github/Eberhard-26/-OOP-58001/blob/main/Operations_and_Expressions.ipynb\" target=\"_parent\"><img src=\"https://colab.research.google.com/assets/colab-badge.svg\" alt=\"Open In Colab\"/></a>"
      ]
    },
    {
      "cell_type": "markdown",
      "source": [
        "#Boolean Operators"
      ],
      "metadata": {
        "id": "EE76EKsvktSz"
      }
    },
    {
      "cell_type": "code",
      "source": [
        "print(10>9)\n",
        "print(10==9)\n",
        "print(10!=9)\n",
        "print(10<9)"
      ],
      "metadata": {
        "colab": {
          "base_uri": "https://localhost:8080/"
        },
        "id": "_dyetXNmkwZ3",
        "outputId": "11f9e327-f1ca-455b-dde3-50c88826b873"
      },
      "execution_count": null,
      "outputs": [
        {
          "output_type": "stream",
          "name": "stdout",
          "text": [
            "True\n",
            "False\n",
            "True\n",
            "False\n"
          ]
        }
      ]
    },
    {
      "cell_type": "markdown",
      "source": [
        "bool()Function"
      ],
      "metadata": {
        "id": "jSAYM6X9mdRm"
      }
    },
    {
      "cell_type": "code",
      "source": [
        "print(bool(\"Maria\"))\n",
        "print(bool(19))\n",
        "print(bool([]))\n",
        "print(bool(0))\n",
        "print(bool(1))\n",
        "print(bool(None))\n",
        "print(bool(False))"
      ],
      "metadata": {
        "colab": {
          "base_uri": "https://localhost:8080/"
        },
        "id": "UEr8FW9VmeHy",
        "outputId": "af8f58f5-8ba4-4408-c802-c01d0f7b9a0c"
      },
      "execution_count": null,
      "outputs": [
        {
          "output_type": "stream",
          "name": "stdout",
          "text": [
            "True\n",
            "True\n",
            "False\n",
            "False\n",
            "True\n",
            "False\n",
            "False\n"
          ]
        }
      ]
    },
    {
      "cell_type": "markdown",
      "source": [
        "Function can return to a Boolean"
      ],
      "metadata": {
        "id": "HN9rBCVOm9lj"
      }
    },
    {
      "cell_type": "code",
      "source": [
        "def myFunction():\n",
        "  return False\n",
        "\n",
        "print(myFunction())"
      ],
      "metadata": {
        "colab": {
          "base_uri": "https://localhost:8080/"
        },
        "id": "Ihf0mtGInzoH",
        "outputId": "47497a56-2f0e-4ad6-9722-1dd7aaa107ac"
      },
      "execution_count": null,
      "outputs": [
        {
          "output_type": "stream",
          "name": "stdout",
          "text": [
            "False\n"
          ]
        }
      ]
    },
    {
      "cell_type": "code",
      "source": [
        "if myFunction():\n",
        "  print(\"Yes!\")\n",
        "else:\n",
        "  print(\"No!\")"
      ],
      "metadata": {
        "colab": {
          "base_uri": "https://localhost:8080/"
        },
        "id": "cbWMHAYXn-NN",
        "outputId": "4989fda0-6d5f-43f0-fe52-839f70000e47"
      },
      "execution_count": null,
      "outputs": [
        {
          "output_type": "stream",
          "name": "stdout",
          "text": [
            "Yes!\n"
          ]
        }
      ]
    },
    {
      "cell_type": "markdown",
      "source": [
        "#Application 1"
      ],
      "metadata": {
        "id": "8b8AA7PlonaS"
      }
    },
    {
      "cell_type": "code",
      "source": [
        "print(10>9)\n",
        "\n",
        "a=6\n",
        "b=7\n",
        "print(a==b)\n",
        "print(a!=a)"
      ],
      "metadata": {
        "colab": {
          "base_uri": "https://localhost:8080/"
        },
        "id": "9M-KkQV7os3x",
        "outputId": "30b06a2b-d242-497c-f287-ecaae90005d4"
      },
      "execution_count": null,
      "outputs": [
        {
          "output_type": "stream",
          "name": "stdout",
          "text": [
            "True\n",
            "False\n",
            "False\n"
          ]
        }
      ]
    },
    {
      "cell_type": "code",
      "source": [
        "a=60\n",
        "b=13\n",
        "print(a>b)\n",
        "\n",
        "if a>b:\n",
        "  print(\"a is less than b\")\n",
        "else:\n",
        "  print(\"a is greater than b\") "
      ],
      "metadata": {
        "colab": {
          "base_uri": "https://localhost:8080/"
        },
        "id": "_tnDq3d-q7p8",
        "outputId": "740840be-17b9-477b-e0ab-e599c3e56d0b"
      },
      "execution_count": null,
      "outputs": [
        {
          "output_type": "stream",
          "name": "stdout",
          "text": [
            "True\n",
            "a is less than b\n"
          ]
        }
      ]
    },
    {
      "cell_type": "markdown",
      "source": [
        "#Python Operators"
      ],
      "metadata": {
        "id": "P66Iq3uxrhxd"
      }
    },
    {
      "cell_type": "code",
      "source": [
        "print(10+3)\n",
        "print(10-3)\n",
        "print(10*3)\n",
        "print(10//3)\n",
        "print(10%3)\n",
        "print(10/3)"
      ],
      "metadata": {
        "colab": {
          "base_uri": "https://localhost:8080/"
        },
        "id": "t_q3Kmd2rk9D",
        "outputId": "5326258a-8857-4d66-d626-5339eccba671"
      },
      "execution_count": null,
      "outputs": [
        {
          "output_type": "stream",
          "name": "stdout",
          "text": [
            "13\n",
            "7\n",
            "30\n",
            "3\n",
            "1\n",
            "3.3333333333333335\n"
          ]
        }
      ]
    },
    {
      "cell_type": "markdown",
      "source": [
        "#Bitwise Operation"
      ],
      "metadata": {
        "id": "7ruWAXB-sPaU"
      }
    },
    {
      "cell_type": "code",
      "source": [
        "#a=60, binary 0011 1100\n",
        "#b=13, binary 0000 1101\n",
        "\n",
        "print(a&b)\n",
        "print(a|b)\n",
        "print(a^b)\n",
        "print(a<<1)"
      ],
      "metadata": {
        "colab": {
          "base_uri": "https://localhost:8080/"
        },
        "id": "muIMEPC9sUYo",
        "outputId": "cd8cb2c7-6340-4d24-cc66-642a28318064"
      },
      "execution_count": null,
      "outputs": [
        {
          "output_type": "stream",
          "name": "stdout",
          "text": [
            "12\n",
            "61\n",
            "49\n",
            "120\n"
          ]
        }
      ]
    },
    {
      "cell_type": "markdown",
      "source": [
        "#Assignment Operators"
      ],
      "metadata": {
        "id": "hiiUPLMtvrQ7"
      }
    },
    {
      "cell_type": "markdown",
      "source": [
        "Application 2"
      ],
      "metadata": {
        "id": "w54-3bEcv74b"
      }
    },
    {
      "cell_type": "code",
      "source": [
        "x=2\n",
        "\n",
        "x+=3\n",
        "print(x)"
      ],
      "metadata": {
        "colab": {
          "base_uri": "https://localhost:8080/"
        },
        "id": "mB_Uzst-vta0",
        "outputId": "335a5ae5-b9ed-409f-d66c-f61e35418c8f"
      },
      "execution_count": null,
      "outputs": [
        {
          "output_type": "stream",
          "name": "stdout",
          "text": [
            "5\n"
          ]
        }
      ]
    },
    {
      "cell_type": "markdown",
      "source": [
        "#Logical Operators"
      ],
      "metadata": {
        "id": "A-F8H8_qyHal"
      }
    },
    {
      "cell_type": "code",
      "source": [
        "k = True\n",
        "l = False\n",
        "print (k and l)\n",
        "print (k or l)\n",
        "print (not(k or l))"
      ],
      "metadata": {
        "colab": {
          "base_uri": "https://localhost:8080/"
        },
        "id": "vM7RJexCyKkr",
        "outputId": "be6979d9-a6ef-4cfe-c272-75fef506cc6d"
      },
      "execution_count": null,
      "outputs": [
        {
          "output_type": "stream",
          "name": "stdout",
          "text": [
            "False\n",
            "True\n",
            "False\n"
          ]
        }
      ]
    },
    {
      "cell_type": "markdown",
      "source": [
        "#Identity Operators"
      ],
      "metadata": {
        "id": "-wBABybUy5QT"
      }
    },
    {
      "cell_type": "code",
      "source": [
        "k is l\n",
        "k is not l"
      ],
      "metadata": {
        "colab": {
          "base_uri": "https://localhost:8080/"
        },
        "id": "9lPsd2qly9V7",
        "outputId": "cd50c71a-51ce-40b5-9af0-724f2f796057"
      },
      "execution_count": null,
      "outputs": [
        {
          "output_type": "execute_result",
          "data": {
            "text/plain": [
              "True"
            ]
          },
          "metadata": {},
          "execution_count": 32
        }
      ]
    },
    {
      "cell_type": "markdown",
      "source": [
        "#Control Structure"
      ],
      "metadata": {
        "id": "pGO_vCtrz90H"
      }
    },
    {
      "cell_type": "markdown",
      "source": [
        "If Statement"
      ],
      "metadata": {
        "id": "B-Af446a0A2m"
      }
    },
    {
      "cell_type": "code",
      "source": [
        "v = 1\n",
        "z = 2\n",
        "\n",
        "if 1<2:\n",
        "  print(\"1 is less than 2\")"
      ],
      "metadata": {
        "colab": {
          "base_uri": "https://localhost:8080/"
        },
        "id": "1vXFcHSLz_z6",
        "outputId": "8467f424-b616-4c3d-89ae-e16a63667930"
      },
      "execution_count": null,
      "outputs": [
        {
          "output_type": "stream",
          "name": "stdout",
          "text": [
            "1 is less than 2\n"
          ]
        }
      ]
    },
    {
      "cell_type": "markdown",
      "source": [
        "Elif Statement"
      ],
      "metadata": {
        "id": "9hzDlVwO0aPV"
      }
    },
    {
      "cell_type": "code",
      "source": [
        "number= int(input())\n",
        "\n",
        "if number>0:\n",
        "  print(\"positive\")\n",
        "elif number<0:\n",
        "  print(\"negative\")\n",
        "else:\n",
        "  print(\"number is equal to 0\")"
      ],
      "metadata": {
        "colab": {
          "base_uri": "https://localhost:8080/"
        },
        "id": "XiXa6gLz0cOb",
        "outputId": "e346b121-8c0d-4b0b-89cb-b19716c297b2"
      },
      "execution_count": null,
      "outputs": [
        {
          "output_type": "stream",
          "name": "stdout",
          "text": [
            "12\n",
            "positive\n"
          ]
        }
      ]
    },
    {
      "cell_type": "code",
      "source": [
        "age=int(input())\n",
        "\n",
        "if age>=18:\n",
        "  print(\"You are qualified to vote\")\n",
        "else:\n",
        "  print(\"You are not qualified to vote\")"
      ],
      "metadata": {
        "colab": {
          "base_uri": "https://localhost:8080/"
        },
        "id": "ECgKWWH-4WvI",
        "outputId": "a95c5fcf-4bb7-44ab-f0ae-b497f7a16a33"
      },
      "execution_count": null,
      "outputs": [
        {
          "output_type": "stream",
          "name": "stdout",
          "text": [
            "15\n",
            "You are not qualified to vote\n"
          ]
        }
      ]
    },
    {
      "cell_type": "markdown",
      "source": [
        "#Nested If...Else"
      ],
      "metadata": {
        "id": "ZHB3sF5935e9"
      }
    },
    {
      "cell_type": "code",
      "source": [
        "u= int(input())\n",
        "if u>10:\n",
        "  print(\"u is above 10\")\n",
        "if u>20:\n",
        "  print(\"u is above 20\")\n",
        "if u>30:\n",
        "  print(\"u is above 30\")\n",
        "if u>40:\n",
        "  print(\"u is above 40\")\n",
        "else:\n",
        "  print(\"u is below 40\")\n",
        "if u>50:\n",
        "  print(\"u is above 50\")\n",
        "else:\n",
        "  print(\"u is below 50\")"
      ],
      "metadata": {
        "colab": {
          "base_uri": "https://localhost:8080/"
        },
        "id": "Ky59uWiL4qxR",
        "outputId": "e23cf513-ad56-446e-d5ac-a1a0495244ed"
      },
      "execution_count": null,
      "outputs": [
        {
          "output_type": "stream",
          "name": "stdout",
          "text": [
            "11\n",
            "u is above 10\n",
            "u is below 40\n",
            "u is below 50\n"
          ]
        }
      ]
    },
    {
      "cell_type": "markdown",
      "source": [
        "#Loop Structure"
      ],
      "metadata": {
        "id": "PgqjQr977Qdc"
      }
    },
    {
      "cell_type": "code",
      "source": [
        "week = ['Sunday', 'Monday', 'Tuesday', 'Wednesday', 'Thursday', 'Friday', 'Saturday']\n",
        "season= [\"rainy\", \"sunny\"]\n",
        "\n",
        "for x in week:\n",
        "  for y in season:\n",
        "    print(y,x)"
      ],
      "metadata": {
        "id": "drxD5gfL7TKU",
        "colab": {
          "base_uri": "https://localhost:8080/"
        },
        "outputId": "a338ff77-0ff3-418f-9b3d-d93b9c0b77c3"
      },
      "execution_count": 8,
      "outputs": [
        {
          "output_type": "stream",
          "name": "stdout",
          "text": [
            "rainy Sunday\n",
            "sunny Sunday\n",
            "rainy Monday\n",
            "sunny Monday\n",
            "rainy Tuesday\n",
            "sunny Tuesday\n",
            "rainy Wednesday\n",
            "sunny Wednesday\n",
            "rainy Thursday\n",
            "sunny Thursday\n",
            "rainy Friday\n",
            "sunny Friday\n",
            "rainy Saturday\n",
            "sunny Saturday\n"
          ]
        }
      ]
    },
    {
      "cell_type": "markdown",
      "source": [
        "#The break statement"
      ],
      "metadata": {
        "id": "8C-Zo3_F9IX3"
      }
    },
    {
      "cell_type": "code",
      "source": [
        "for x in week:\n",
        "  if x == 'Thursday':\n",
        "    break\n",
        "\n",
        "print(x)"
      ],
      "metadata": {
        "colab": {
          "base_uri": "https://localhost:8080/"
        },
        "id": "7LOS-mxC9Lkk",
        "outputId": "374e0634-9f9c-40f7-d154-4b476439bdf3"
      },
      "execution_count": 9,
      "outputs": [
        {
          "output_type": "stream",
          "name": "stdout",
          "text": [
            "Thursday\n"
          ]
        }
      ]
    },
    {
      "cell_type": "code",
      "source": [
        "for x in week:\n",
        "  print(x)\n",
        "  if x==\"Thursday\":\n",
        "    break"
      ],
      "metadata": {
        "colab": {
          "base_uri": "https://localhost:8080/"
        },
        "id": "7B3WGA8r_1Ac",
        "outputId": "b4047d0e-d395-46dd-f6ba-fa57d4bc7b5a"
      },
      "execution_count": 10,
      "outputs": [
        {
          "output_type": "stream",
          "name": "stdout",
          "text": [
            "Sunday\n",
            "Monday\n",
            "Tuesday\n",
            "Wednesday\n",
            "Thursday\n"
          ]
        }
      ]
    },
    {
      "cell_type": "markdown",
      "source": [
        "#While Loop"
      ],
      "metadata": {
        "id": "hdQJdPwoAXKx"
      }
    },
    {
      "cell_type": "code",
      "source": [
        "i=1\n",
        "\n",
        "while i<6:\n",
        "  print(i)\n",
        "  i+=1"
      ],
      "metadata": {
        "colab": {
          "base_uri": "https://localhost:8080/"
        },
        "id": "9_CZGJqQAZlr",
        "outputId": "f67a5145-99a5-41e3-a558-dd7690683a94"
      },
      "execution_count": null,
      "outputs": [
        {
          "output_type": "stream",
          "name": "stdout",
          "text": [
            "1\n",
            "2\n",
            "3\n",
            "4\n",
            "5\n"
          ]
        }
      ]
    },
    {
      "cell_type": "markdown",
      "source": [
        "Application 4 "
      ],
      "metadata": {
        "id": "5cI7KQz4BCSd"
      }
    },
    {
      "cell_type": "code",
      "source": [
        "j = 1\n",
        "\n",
        "while j<=4:\n",
        "  print(j)\n",
        "  j+=1"
      ],
      "metadata": {
        "colab": {
          "base_uri": "https://localhost:8080/"
        },
        "id": "CKlv03OgBF4x",
        "outputId": "6c544d91-bac3-4a55-99ce-69326d0eb866"
      },
      "execution_count": null,
      "outputs": [
        {
          "output_type": "stream",
          "name": "stdout",
          "text": [
            "1\n",
            "2\n",
            "3\n",
            "4\n"
          ]
        }
      ]
    },
    {
      "cell_type": "markdown",
      "source": [
        "Application 5"
      ],
      "metadata": {
        "id": "EsLLtPazBwMe"
      }
    },
    {
      "cell_type": "code",
      "source": [
        "j=1\n",
        "\n",
        "while j<=4:\n",
        "  j+=1\n",
        "  if j==4:\n",
        "    print(j)"
      ],
      "metadata": {
        "id": "lcXKG6fcBx2W",
        "colab": {
          "base_uri": "https://localhost:8080/"
        },
        "outputId": "5ddc72e3-362a-41f5-bc9e-09d6d70e2447"
      },
      "execution_count": null,
      "outputs": [
        {
          "output_type": "stream",
          "name": "stdout",
          "text": [
            "4\n"
          ]
        }
      ]
    }
  ]
}