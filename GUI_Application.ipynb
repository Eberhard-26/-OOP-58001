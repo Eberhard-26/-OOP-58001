{
  "nbformat": 4,
  "nbformat_minor": 0,
  "metadata": {
    "colab": {
      "name": "GUI Application.ipynb",
      "provenance": [],
      "authorship_tag": "ABX9TyNbdOOsUo6uVWOS1dMG2dhp",
      "include_colab_link": true
    },
    "kernelspec": {
      "name": "python3",
      "display_name": "Python 3"
    },
    "language_info": {
      "name": "python"
    }
  },
  "cells": [
    {
      "cell_type": "markdown",
      "metadata": {
        "id": "view-in-github",
        "colab_type": "text"
      },
      "source": [
        "<a href=\"https://colab.research.google.com/github/Eberhard-26/-OOP-58001/blob/main/GUI_Application.ipynb\" target=\"_parent\"><img src=\"https://colab.research.google.com/assets/colab-badge.svg\" alt=\"Open In Colab\"/></a>"
      ]
    },
    {
      "cell_type": "markdown",
      "source": [
        "#Create a Python Program that displays the Grades of the Students"
      ],
      "metadata": {
        "id": "N1rX9ZZ1_hSF"
      }
    },
    {
      "cell_type": "markdown",
      "source": [
        "Tkinter Module"
      ],
      "metadata": {
        "id": "S98XcnJCDrab"
      }
    },
    {
      "cell_type": "code",
      "source": [
        "#@title Students' Grade in Object-oriented Programming\n",
        "Student_Name = \"Eberhard Josh De Casa\" #@param {type: \"string\"}\n",
        "Prelim =  92#@param {type: \"integer\"}\n",
        "Midterms =  98#@param {type: \"integer\"}\n",
        "Finals =  94#@param {type: \"integer\"}\n",
        "Semestral = (Prelim*0.30 + Midterms*0.30 + Finals*0.40)\n",
        "\n",
        "print(\"Student Name: \" + Student_Name)\n",
        "print(\"Semestral Grade of the Student: \" + str(Semestral))"
      ],
      "metadata": {
        "colab": {
          "base_uri": "https://localhost:8080/"
        },
        "id": "z8CbvLFO_s0C",
        "outputId": "2c0f5692-c3af-427b-88dd-e3fb4594591c"
      },
      "execution_count": 15,
      "outputs": [
        {
          "output_type": "stream",
          "name": "stdout",
          "text": [
            "Student Name: Eberhard Josh De Casa\n",
            "Semestral Grade of the Student: 94.6\n"
          ]
        }
      ]
    },
    {
      "cell_type": "code",
      "source": [
        "#@title Gender\n",
        "\n",
        "##Male = True #@param{type:\"boolean\"}\n",
        "##Female = False #@param{type:\"boolean\"}\n",
        "\n",
        "Gender = \"Male\" #@param[\"Male\", \"Female\"]\n",
        "Birthdate = \"2002-08-26\" #@param {type:\"date\"}\n",
        "\n",
        "print(\"Gender: \" + Gender)\n",
        "print(\"Birthdate: \" + Birthdate)\n"
      ],
      "metadata": {
        "colab": {
          "base_uri": "https://localhost:8080/"
        },
        "id": "MFV_2Uz0D4aN",
        "outputId": "53841156-0980-4a5b-bb56-947ca3b9484d"
      },
      "execution_count": 26,
      "outputs": [
        {
          "output_type": "stream",
          "name": "stdout",
          "text": [
            "Gender: Male\n",
            "Birthdate: 2002-08-26\n"
          ]
        }
      ]
    }
  ]
}